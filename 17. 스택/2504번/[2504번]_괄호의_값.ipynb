{
  "nbformat": 4,
  "nbformat_minor": 0,
  "metadata": {
    "colab": {
      "name": "[2504번] 괄호의 값.ipynb",
      "provenance": []
    },
    "kernelspec": {
      "name": "python3",
      "display_name": "Python 3"
    }
  },
  "cells": [
    {
      "cell_type": "code",
      "metadata": {
        "id": "GYozpZ4Vo4cR"
      },
      "source": [
        "import sys\r\n",
        "r=sys.stdin.readline\r\n",
        "l=list(r().rstrip())\r\n",
        "stack=[]\r\n",
        "flag=True\r\n",
        "for i in l:\r\n",
        "\tif i=='(' or i=='[':\r\n",
        "\t\tstack.append(i)\r\n",
        "\telif i==')' and stack:\r\n",
        "\t\tif stack[-1]=='(':\r\n",
        "\t\t\tstack[-1]=2\r\n",
        "\t\telif stack[-1]=='[':\r\n",
        "\t\t\tflag=False\r\n",
        "\t\t\tbreak\r\n",
        "\t\telse: # 숫자인 경우만 남음\r\n",
        "\t\t\ts=0\r\n",
        "\t\t\tfor j in range(len(stack)-1,-1,-1):\r\n",
        "\t\t\t\tif stack[j]=='(':\r\n",
        "\t\t\t\t\tstack[-1]=s*2\r\n",
        "\t\t\t\t\tbreak\r\n",
        "\t\t\t\telif stack[j]=='[':\r\n",
        "\t\t\t\t\tflag=False\r\n",
        "\t\t\t\t\tbreak\r\n",
        "\t\t\t\telse:\r\n",
        "\t\t\t\t\ts+=stack[j]\r\n",
        "\t\t\t\t\tstack.pop()\r\n",
        " \r\n",
        "\telif i==']' and stack:\r\n",
        "\t\tif stack[-1]=='[':\r\n",
        "\t\t\tstack[-1]=3\r\n",
        "\t\telif stack[-1]=='(':\r\n",
        "\t\t\tflag=False\r\n",
        "\t\t\tbreak\r\n",
        "\t\telse: # 숫자인 경우만 남음\r\n",
        "\t\t\ts=0\r\n",
        "\t\t\tfor k in range(len(stack)-1,-1,-1):\r\n",
        "\t\t\t\tif stack[k]=='[':\r\n",
        "\t\t\t\t\tstack[-1]=s*3\r\n",
        "\t\t\t\t\tbreak\r\n",
        "\t\t\t\telif stack[k]=='(':\r\n",
        "\t\t\t\t\tflag=False\r\n",
        "\t\t\t\t\tbreak\r\n",
        "\t\t\t\telse:\r\n",
        "\t\t\t\t\ts+=stack[k]\r\n",
        "\t\t\t\t\tstack.pop()\r\n",
        "\telse:\r\n",
        "\t\tflag=False\r\n",
        "\t\tbreak\r\n",
        "\r\n",
        "for i in range(len(stack)):\r\n",
        "\tif type(stack[i])!=int:\r\n",
        "\t\tflag=False\r\n",
        "\t\tbreak\r\n",
        "\r\n",
        "if flag:\r\n",
        "\tprint(sum(stack))\r\n",
        "else:\r\n",
        "\tprint(0)"
      ],
      "execution_count": null,
      "outputs": []
    }
  ]
}